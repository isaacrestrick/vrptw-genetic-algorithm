{
 "cells": [
  {
   "cell_type": "markdown",
   "metadata": {},
   "source": [
    "# Vehicle Routing Problem with Time Windows (VRPTW)\n",
    "\n",
    "Interactive demonstration of a genetic algorithm solving the VRPTW.\n",
    "\n",
    "## What is VRPTW?\n",
    "\n",
    "The Vehicle Routing Problem with Time Windows (VRPTW) is a complex optimization problem where:\n",
    "- Multiple vehicles must visit customers\n",
    "- Each customer has a time window for service\n",
    "- Vehicles have limited capacity\n",
    "- The goal is to minimize total distance traveled while respecting all constraints\n",
    "\n",
    "This is an NP-hard problem, so we use a genetic algorithm to find good approximate solutions."
   ]
  },
  {
   "cell_type": "code",
   "execution_count": null,
   "metadata": {},
   "outputs": [],
   "source": [
    "import sys\n",
    "import os\n",
    "sys.path.append(os.path.join('..', 'src'))\n",
    "\n",
    "import numpy as np\n",
    "import matplotlib.pyplot as plt\n",
    "from vrptw import Customer, Vehicle, VRPTWProblem, VRPTWGeneticAlgorithm\n",
    "\n",
    "# Set random seed for reproducible results\n",
    "np.random.seed(42)\n",
    "print(\"🚛 VRPTW Interactive Demo Loaded!\")"
   ]
  },
  {
   "cell_type": "markdown",
   "metadata": {},
   "source": [
    "## Create a Sample Problem\n",
    "\n",
    "Let's create a problem with 15 customers and 2 vehicles."
   ]
  },
  {
   "cell_type": "code",
   "execution_count": null,
   "metadata": {},
   "outputs": [],
   "source": [
    "# Create depot\n",
    "depot = Customer(id=0, x=0, y=0, demand=0, ready_time=0, due_time=480, service_time=0)\n",
    "\n",
    "# Create customers with time windows\n",
    "customers = []\n",
    "for i in range(1, 16):\n",
    "    # Position customers in a circle\n",
    "    angle = (i-1) * 2 * np.pi / 15\n",
    "    radius = 20 + np.random.uniform(-5, 5)\n",
    "    x = radius * np.cos(angle)\n",
    "    y = radius * np.sin(angle)\n",
    "    \n",
    "    # Time windows: morning and afternoon shifts\n",
    "    if i <= 8:\n",
    "        ready_time = np.random.uniform(60, 120)  # Morning\n",
    "        due_time = ready_time + np.random.uniform(30, 60)\n",
    "    else:\n",
    "        ready_time = np.random.uniform(180, 240)  # Afternoon  \n",
    "        due_time = ready_time + np.random.uniform(30, 60)\n",
    "    \n",
    "    demand = np.random.uniform(1, 4)\n",
    "    service_time = np.random.uniform(5, 15)\n",
    "    \n",
    "    customer = Customer(\n",
    "        id=i, x=x, y=y, demand=demand,\n",
    "        ready_time=ready_time, due_time=due_time, service_time=service_time\n",
    "    )\n",
    "    customers.append(customer)\n",
    "\n",
    "# Create vehicles\n",
    "vehicles = [\n",
    "    Vehicle(id=1, capacity=20, depot_return_time=480),\n",
    "    Vehicle(id=2, capacity=25, depot_return_time=480)\n",
    "]\n",
    "\n",
    "# Create problem instance\n",
    "problem = VRPTWProblem(customers, vehicles, depot)\n",
    "\n",
    "print(f\"✅ Created VRPTW problem:\")\n",
    "print(f\"   - {len(customers)} customers\")\n",
    "print(f\"   - {len(vehicles)} vehicles (capacities: {[v.capacity for v in vehicles]})\")\n",
    "print(f\"   - Total demand: {sum(c.demand for c in customers):.1f} units\")"
   ]
  },
  {
   "cell_type": "markdown",
   "metadata": {},
   "source": [
    "## Visualize the Problem\n",
    "\n",
    "Let's see what our problem looks like before solving it."
   ]
  },
  {
   "cell_type": "code",
   "execution_count": null,
   "metadata": {},
   "outputs": [],
   "source": [
    "import plotly.graph_objects as go\n",
    "\n",
    "# Create problem visualization\n",
    "fig = go.Figure()\n",
    "\n",
    "# Plot depot\n",
    "fig.add_trace(go.Scatter(\n",
    "    x=[depot.x], y=[depot.y],\n",
    "    mode='markers+text',\n",
    "    marker=dict(size=25, color='black', symbol='star'),\n",
    "    text=['Depot'],\n",
    "    textposition=\"top center\",\n",
    "    name='Depot'\n",
    "))\n",
    "\n",
    "# Plot customers with time windows\n",
    "for customer in customers:\n",
    "    fig.add_trace(go.Scatter(\n",
    "        x=[customer.x], y=[customer.y],\n",
    "        mode='markers',\n",
    "        marker=dict(\n",
    "            size=12,\n",
    "            color=customer.ready_time,\n",
    "            colorscale='Viridis',\n",
    "            showscale=True,\n",
    "            colorbar=dict(title=\"Start Time\"),\n",
    "            line=dict(width=2, color='white')\n",
    "        ),\n",
    "        text=[f'Customer {customer.id}<br>Demand: {customer.demand:.1f}<br>Time: {customer.ready_time:.0f}-{customer.due_time:.0f}'],\n",
    "        hoverinfo='text',\n",
    "        name=f'Customer {customer.id}'\n",
    "    ))\n",
    "\n",
    "# Update layout\n",
    "fig.update_layout(\n",
    "    title='VRPTW Problem Instance<br>(Colors indicate service start times)',\n",
    "    xaxis_title='X Coordinate',\n",
    "    yaxis_title='Y Coordinate',\n",
    "    width=800,\n",
    "    height=600,\n",
    "    showlegend=False\n",
    ")\n",
    "\n",
    "fig.show()"
   ]
  },
  {
   "cell_type": "markdown",
   "metadata": {},
   "source": [
    "## Run the Genetic Algorithm\n",
    "\n",
    "Now let's solve this problem using our genetic algorithm."
   ]
  },
  {
   "cell_type": "code",
   "execution_count": null,
   "metadata": {},
   "outputs": [],
   "source": [
    "# Create genetic algorithm solver\n",
    "ga = VRPTWGeneticAlgorithm(\n",
    "    problem=problem,\n",
    "    population_size=50,  # Smaller for demo\n",
    "    generations=100,\n",
    "    mutation_rate=0.2,\n",
    "    crossover_rate=0.8,\n",
    "    tournament_size=3\n",
    ")\n",
    "\n",
    "print(\"🧬 Running genetic algorithm...\")\n",
    "best_solution, best_routes, best_fitness = ga.evolve()\n",
    "print(f\"✅ Optimization complete! Best fitness: {best_fitness:.2f}\")"
   ]
  },
  {
   "cell_type": "markdown",
   "metadata": {},
   "source": [
    "## Analyze the Solution\n",
    "\n",
    "Let's examine the routes found by the genetic algorithm."
   ]
  },
  {
   "cell_type": "code",
   "execution_count": null,
   "metadata": {},
   "outputs": [],
   "source": [
    "# Analyze routes\n",
    "print(\"📊 Route Analysis:\")\n",
    "total_distance = 0\n",
    "total_customers = 0\n",
    "\n",
    "for i, route in enumerate(best_routes):\n",
    "    if route.customers:\n",
    "        total_distance += route.total_distance\n",
    "        total_customers += len(route.customers)\n",
    "        load = sum(c.demand for c in route.customers)\n",
    "        \n",
    "        print(f\"Vehicle {route.vehicle_id}:\")\n",
    "        print(f\"  - Customers: {[c.id for c in route.customers]}\")\n",
    "        print(f\"  - Distance: {route.total_distance:.2f}\")\n",
    "        print(f\"  - Load: {load:.1f}/{problem.vehicles[i].capacity}\")\n",
    "        print(f\"  - Total time: {route.total_time:.1f}\")\n",
    "        print(f\"  - Feasible: {'✅ Yes' if route.feasible else '❌ No'}\")\n",
    "        print()\n",
    "\n",
    "print(f\"📈 Summary:\")\n",
    "print(f\"   - Total distance: {total_distance:.2f}\")\n",
    "print(f\"   - Customers served: {total_customers}/{len(customers)}\")\n",
    "print(f\"   - Fitness score: {best_fitness:.2f}\")"
   ]
  },
  {
   "cell_type": "markdown",
   "metadata": {},
   "source": [
    "## Visualize the Solution\n",
    "\n",
    "Now let's create a beautiful visualization of the optimal routes."
   ]
  },
  {
   "cell_type": "code",
   "execution_count": null,
   "metadata": {},
   "outputs": [],
   "source": [
    "# Create solution visualization\n",
    "fig_solution = ga.visualize_solution(best_routes)\n",
    "fig_solution.show()"
   ]
  },
  {
   "cell_type": "markdown",
   "metadata": {},
   "source": [
    "## Fitness Evolution\n",
    "\n",
    "Let's see how the genetic algorithm improved over time."
   ]
  },
  {
   "cell_type": "code",
   "execution_count": null,
   "metadata": {},
   "outputs": [],
   "source": [
    "# Plot fitness evolution\n",
    "fig, ax = plt.subplots(figsize=(10, 6))\n",
    "\n",
    "ax.plot(ga.best_fitness_history, label='Best Fitness', linewidth=2, color='blue')\n",
    "ax.plot(ga.avg_fitness_history, label='Average Fitness', linewidth=2, color='red', alpha=0.7)\n",
    "\n",
    "ax.set_xlabel('Generation')\n",
    "ax.set_ylabel('Fitness (Total Distance + Penalties)')\n",
    "ax.set_title('Genetic Algorithm Fitness Evolution')\n",
    "ax.legend()\n",
    "ax.grid(True, alpha=0.3)\n",
    "\n",
    "plt.tight_layout()\n",
    "plt.show()\n",
    "\n",
    "improvement = (ga.best_fitness_history[0] - ga.best_fitness_history[-1]) / ga.best_fitness_history[0] * 100\n",
    "print(f\"🎯 Total improvement: {improvement:.1f}%\")"
   ]
  },
  {
   "cell_type": "markdown",
   "metadata": {},
   "source": [
    "## Experiment with Parameters\n",
    "\n",
    "Try modifying the genetic algorithm parameters and see how they affect the solution quality.\n",
    "\n",
    "### Ideas to explore:\n",
    "1. Change the population size\n",
    "2. Adjust mutation and crossover rates\n",
    "3. Modify the number of generations\n",
    "4. Try different tournament sizes\n",
    "5. Create a different problem instance\n",
    "\n",
    "### Example: Higher mutation rate"
   ]
  },
  {
   "cell_type": "code",
   "execution_count": null,
   "metadata": {},
   "outputs": [],
   "source": [
    "# Experiment with higher mutation rate\n",
    "ga_experiment = VRPTWGeneticAlgorithm(\n",
    "    problem=problem,\n",
    "    population_size=50,\n",
    "    generations=100,\n",
    "    mutation_rate=0.4,  # Higher mutation\n",
    "    crossover_rate=0.8,\n",
    "    tournament_size=3\n",
    ")\n",
    "\n",
    "print(\"🧬 Running experiment with higher mutation rate...\")\n",
    "best_solution_exp, best_routes_exp, best_fitness_exp = ga_experiment.evolve()\n",
    "print(f\"✅ Experiment complete! Best fitness: {best_fitness_exp:.2f} (vs {best_fitness:.2f} original)\")\n",
    "\n",
    "# Compare results\n",
    "if best_fitness_exp < best_fitness:\n",
    "    print(\"🎉 Higher mutation rate performed better!\")\n",
    "else:\n",
    "    print(\"📉 Higher mutation rate performed worse or similar.\")"
   ]
  },
  {
   "cell_type": "markdown",
   "metadata": {},
   "source": [
    "## Conclusion\n",
    "\n",
    "This notebook demonstrated:\n",
    "\n",
    "1. **Problem Formulation**: How to define a VRPTW with customers, time windows, and vehicle constraints\n",
    "2. **Genetic Algorithm**: Implementation of selection, crossover, and mutation operators\n",
    "3. **Solution Visualization**: Interactive plots showing routes and time windows\n",
    "4. **Performance Analysis**: Fitness evolution and parameter sensitivity\n",
    "\n",
    "### Key Takeaways:\n",
    "- Genetic algorithms can find good solutions to complex optimization problems\n",
    "- The VRPTW is challenging due to multiple constraints (capacity, time windows)\n",
    "- Visualization helps understand both the problem and solution quality\n",
    "- Parameter tuning can significantly impact algorithm performance\n",
    "\n",
    "### Next Steps:\n",
    "- Implement more sophisticated crossover operators\n",
    "- Add local search improvement heuristics\n",
    "- Compare with other metaheuristics (simulated annealing, ant colony)\n",
    "- Solve larger problem instances"
   ]
  }
 ],
 "metadata": {
  "kernelspec": {
   "display_name": "Python 3",
   "language": "python",
   "name": "python3"
  },
  "language_info": {
   "codemirror_mode": {
    "name": "ipython",
    "version": 3
   },
   "file_extension": ".py",
   "mimetype": "text/x-python",
   "name": "python",
   "nbconvert_exporter": "python",
   "pygments_lexer": "ipython3",
   "version": "3.8.5"
  }
 },
 "nbformat": 4,
 "nbformat_minor": 4
}
